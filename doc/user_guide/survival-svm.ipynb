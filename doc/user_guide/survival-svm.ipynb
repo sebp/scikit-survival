{
 "cells": [
  {
   "cell_type": "markdown",
   "metadata": {},
   "source": [
    "# Introduction to Survival Support Vector Machine\n",
    "\n",
    "This guide demonstrates how to use the efficient implementation of *Survival Support Vector Machines*, which is an extension of the standard [Support Vector Machine](https://en.wikipedia.org/wiki/Support_vector_machine) to right-censored time-to-event data. Its main advantage is that it can account for complex, non-linear relationships between features and survival via the so-called kernel trick. A kernel function implicitly maps the input features into high-dimensional feature spaces where survival can be described by a hyperplane. This makes Survival Support Vector Machines extremely versatile and applicable to a wide a range of data. A popular example for such a kernel function is the [Radial Basis Function](https://en.wikipedia.org/wiki/Radial_basis_function_kernel).\n",
    "\n",
    "Survival analysis in the context of Support Vector Machines can be described in two different ways:\n",
    "\n",
    "1. As a **ranking** problem: the model learns to assign samples with shorter survival times a lower *rank* by considering all possible pairs of samples in the training data.\n",
    "2. As a **regression** problem: the model learns to directly predict the (log) survival time.\n",
    "\n",
    "In both cases, the disadvantage is that predictions cannot be easily related to standard quantities in survival analysis, namely survival function and cumulative hazard function. Moreover, they have to retain a copy of the training data to do predictions.\n",
    "\n",
    "Let's start by taking a closer look at the Linear Survival Support Vector Machine, which does not allow selecting a specific kernel function, but can be fitted faster than the more generic Kernel Survival Support Vector Machine.\n",
    "\n",
    "\n",
    "## Linear Survival Support Vector Machine\n",
    "\n",
    "The class [sksurv.svm.FastSurvivalSVM](https://scikit-survival.readthedocs.io/en/latest/api/generated/sksurv.svm.FastSurvivalSVM.html#sksurv.svm.FastSurvivalSVM) is used to train\n",
    "a linear Survival Support Vector Machine. Training data consists of $n$ triplets $(\\mathbf{x}_i, y_i, \\delta_i)$, where\n",
    "$\\mathbf{x}_i$ is a $d$-dimensional feature vector, $y_i > 0$ the survival time or time of censoring, and $\\delta_i \\in \\{0,1\\}$ the binary event indicator. Using the training data, the objective is to minimize the following function:\n",
    "\n",
    "\\begin{equation}\n",
    "\\arg \\min_{\\mathbf{w}, b} \\frac{1}{2} \\mathbf{w}^T \\mathbf{w}+ \\frac{\\alpha}{2} \\left[\n",
    "r \\sum_{i,j \\in \\mathcal{P}}\n",
    "\\max(0, 1 - (\\mathbf{w}^T \\mathbf{x}_i - \\mathbf{w}^T \\mathbf{x}_j))^2\n",
    "+ (1 - r) \\sum_{i=0}^n \\left( \\zeta_{\\mathbf{w},b} (y_i, x_i, \\delta_i) \\right)^2\n",
    "\\right]\n",
    "\\end{equation}\n",
    "\n",
    "\\begin{equation}\n",
    "\\zeta_{\\mathbf{w},b} (y_i, \\mathbf{x}_i, \\delta_i) =\n",
    "\\begin{cases}\n",
    "\\max(0, y_i - \\mathbf{w}^T \\mathbf{x}_i - b) & \\text{if $\\delta_i = 0$,}\\\\\n",
    "y_i - \\mathbf{w}^T \\mathbf{x}_i - b & \\text{if $\\delta_i = 1$,}\\\\\n",
    "\\end{cases}\n",
    "\\end{equation}\n",
    "\n",
    "\\begin{equation}\n",
    "\\mathcal{P} = \\{ (i, j)~|~y_i > y_j \\land \\delta_j = 1 \\}_{i,j=1,\\dots,n}\n",
    "\\end{equation}\n",
    "\n",
    "The hyper-parameter $\\alpha > 0$ determines the amount of regularization to apply: a smaller value increases the amount of regularization and a higher value reduces the amount of regularization. The hyper-parameter $r \\in [0; 1]$ determines the trade-off between the ranking objective and the regression objective. If $r = 1$ it reduces to the ranking objective, and if $r = 0$ to the regression objective.\n",
    "\n",
    "The class [sksurv.svm.FastSurvivalSVM](https://scikit-survival.readthedocs.io/en/latest/api/generated/sksurv.svm.FastSurvivalSVM.html#sksurv.svm.FastSurvivalSVM) adheres to interfaces used in [scikit-learn](https://scikit-learn.org) and thus it is possible to combine it with auxiliary classes and functions from scikit-learn. In this example, we are going to use the ranking objective ($r = 1$) and [GridSearchCV](https://scikit-learn.org/stable/modules/generated/sklearn.model_selection.GridSearchCV.html) to determine the best setting for the hyper-parameter $\\alpha$ on the Veteran's Lung Cancer data. \n",
    "\n",
    "First, we have to import the classes we are going to use."
   ]
  },
  {
   "cell_type": "code",
   "execution_count": 1,
   "metadata": {},
   "outputs": [],
   "source": [
    "%matplotlib inline\n",
    "import numpy as np\n",
    "import matplotlib.pyplot as plt\n",
    "import pandas\n",
    "import seaborn as sns\n",
    "from sklearn.model_selection import ShuffleSplit, GridSearchCV\n",
    "\n",
    "from sksurv.datasets import load_veterans_lung_cancer\n",
    "from sksurv.column import encode_categorical\n",
    "from sksurv.metrics import concordance_index_censored\n",
    "from sksurv.svm import FastSurvivalSVM\n",
    "\n",
    "sns.set_style(\"whitegrid\")"
   ]
  },
  {
   "cell_type": "markdown",
   "metadata": {},
   "source": [
    "Next, we load data of the *Veteran's Administration Lung Cancer Trial* from disk and convert it to numeric values. The data consists of 137 patients and 6 features. The primary outcome measure is death (`Status`, `Survival_in_days`).\n",
    "The original data can be retrieved from http://lib.stat.cmu.edu/datasets/veteran."
   ]
  },
  {
   "cell_type": "code",
   "execution_count": 2,
   "metadata": {},
   "outputs": [],
   "source": [
    "data_x, y = load_veterans_lung_cancer()\n",
    "x = encode_categorical(data_x)"
   ]
  },
  {
   "cell_type": "markdown",
   "metadata": {},
   "source": [
    "`data_x` is a data frame containing the features, and `y` is a structured array containing the event indicator $\\delta_i$, as boolean, and the survival/censoring time $y_i$ for training.\n",
    "\n",
    "Now, we are essentially ready to start training, but before let's determine what the amount of censoring for this data is and plot the survival/censoring times."
   ]
  },
  {
   "cell_type": "code",
   "execution_count": 3,
   "metadata": {},
   "outputs": [
    {
     "name": "stdout",
     "output_type": "stream",
     "text": [
      "6.6% of records are censored\n"
     ]
    }
   ],
   "source": [
    "n_censored = y.shape[0] - y[\"Status\"].sum()\n",
    "print(\"%.1f%% of records are censored\" % (n_censored / y.shape[0] * 100))"
   ]
  },
  {
   "cell_type": "code",
   "execution_count": 4,
   "metadata": {},
   "outputs": [
    {
     "data": {
      "text/plain": "<Figure size 648x432 with 1 Axes>",
      "image/png": "[encoded data removed]"
     },
     "metadata": {},
     "output_type": "display_data"
    }
   ],
   "source": [
    "plt.figure(figsize=(9, 6))\n",
    "val, bins, patches = plt.hist((y[\"Survival_in_days\"][y[\"Status\"]],\n",
    "                               y[\"Survival_in_days\"][~y[\"Status\"]]),\n",
    "                              bins=30, stacked=True)\n",
    "_ = plt.legend(patches, [\"Time of Death\", \"Time of Censoring\"])"
   ]
  },
  {
   "cell_type": "markdown",
   "metadata": {},
   "source": [
    "First, we need to create an initial model with default parameters that is subsequently used in the grid search."
   ]
  },
  {
   "cell_type": "code",
   "execution_count": 5,
   "metadata": {},
   "outputs": [],
   "source": [
    "estimator = FastSurvivalSVM(max_iter=1000, tol=1e-5, random_state=0)"
   ]
  },
  {
   "cell_type": "markdown",
   "metadata": {},
   "source": [
    "Next, we define a function for evaluating the performance of models during grid search. We use Harrell's concordance index."
   ]
  },
  {
   "cell_type": "code",
   "execution_count": 6,
   "metadata": {},
   "outputs": [],
   "source": [
    "def score_survival_model(model, X, y):\n",
    "    prediction = model.predict(X)\n",
    "    result = concordance_index_censored(y['Status'], y['Survival_in_days'], prediction)\n",
    "    return result[0]"
   ]
  },
  {
   "cell_type": "markdown",
   "metadata": {},
   "source": [
    "The last part of the setup specifies the set of parameters we want to try and how many repetitions of training and testing we want to perform for each parameter setting. In the end, the parameters that on average performed best across all test sets (100 in this case) are selected. [GridSearchCV](https://scikit-learn.org/stable/modules/generated/sklearn.model_selection.GridSearchCV.html) can leverage multiple cores by evaluating multiple parameter settings concurrently (4 jobs in this example)."
   ]
  },
  {
   "cell_type": "code",
   "execution_count": 7,
   "metadata": {},
   "outputs": [],
   "source": [
    "param_grid = {'alpha': 2. ** np.arange(-12, 13, 2)}\n",
    "cv = ShuffleSplit(n_splits=100, test_size=0.5, random_state=0)\n",
    "gcv = GridSearchCV(estimator, param_grid, scoring=score_survival_model,\n",
    "                   n_jobs=4, refit=False,\n",
    "                   cv=cv)"
   ]
  },
  {
   "cell_type": "markdown",
   "metadata": {},
   "source": [
    "Finally, start the hyper-parameter search. This can take a while since a total of ``13 * 100 = 1300`` fits have to be evaluated."
   ]
  },
  {
   "cell_type": "code",
   "execution_count": 8,
   "metadata": {
    "scrolled": true
   },
   "outputs": [],
   "source": [
    "import warnings\n",
    "warnings.filterwarnings(\"ignore\", category=FutureWarning)\n",
    "gcv = gcv.fit(x, y)"
   ]
  },
  {
   "cell_type": "markdown",
   "metadata": {},
   "source": [
    "Let's check what is the best average performance across 100 random train/test splits we got and the corresponding hyper-parameters."
   ]
  },
  {
   "cell_type": "code",
   "execution_count": 9,
   "metadata": {},
   "outputs": [
    {
     "data": {
      "text/plain": "(0.72, {'alpha': 0.00390625})"
     },
     "execution_count": 9,
     "metadata": {},
     "output_type": "execute_result"
    }
   ],
   "source": [
    "round(gcv.best_score_, 3), gcv.best_params_"
   ]
  },
  {
   "cell_type": "markdown",
   "metadata": {},
   "source": [
    "Finally, we retrieve all 100 test scores for each parameter setting and visualize their distribution by box plots."
   ]
  },
  {
   "cell_type": "code",
   "execution_count": 10,
   "metadata": {},
   "outputs": [],
   "source": [
    "def plot_performance(gcv):\n",
    "    n_splits = gcv.cv.n_splits\n",
    "    cv_scores = {\"alpha\": [], \"test_score\": [], \"split\": []}\n",
    "    order = []\n",
    "    for i, params in enumerate(gcv.cv_results_[\"params\"]):            \n",
    "        name = \"%.5f\" % params[\"alpha\"]\n",
    "        order.append(name)\n",
    "        for j in range(n_splits):\n",
    "            vs = gcv.cv_results_[\"split%d_test_score\" % j][i]\n",
    "            cv_scores[\"alpha\"].append(name)\n",
    "            cv_scores[\"test_score\"].append(vs)\n",
    "            cv_scores[\"split\"].append(j)\n",
    "    df = pandas.DataFrame.from_dict(cv_scores)\n",
    "    _, ax = plt.subplots(figsize=(11, 6))\n",
    "    sns.boxplot(x=\"alpha\", y=\"test_score\", data=df, order=order, ax=ax)\n",
    "    _, xtext = plt.xticks()\n",
    "    for t in xtext:\n",
    "        t.set_rotation(\"vertical\")"
   ]
  },
  {
   "cell_type": "code",
   "execution_count": 11,
   "metadata": {},
   "outputs": [
    {
     "data": {
      "text/plain": "<Figure size 792x432 with 1 Axes>",
      "image/png": "[encoded data removed]"
     },
     "metadata": {},
     "output_type": "display_data"
    }
   ],
   "source": [
    "plot_performance(gcv)"
   ]
  },
  {
   "cell_type": "markdown",
   "metadata": {},
   "source": [
    "We can observe that the model seems to be relative robust with respect to the choice for $\\alpha$ for this dataset. Let's fit a model using the $\\alpha$ value that performed best."
   ]
  },
  {
   "cell_type": "code",
   "execution_count": 12,
   "metadata": {},
   "outputs": [
    {
     "data": {
      "text/plain": "FastSurvivalSVM(alpha=0.00390625, max_iter=1000, optimizer='avltree',\n                random_state=0, tol=1e-05)"
     },
     "execution_count": 12,
     "metadata": {},
     "output_type": "execute_result"
    }
   ],
   "source": [
    "estimator.set_params(**gcv.best_params_)\n",
    "estimator.fit(x, y)"
   ]
  },
  {
   "cell_type": "markdown",
   "metadata": {},
   "source": [
    "It is important to remember that only if the ranking objective is used exclusively ($r = 1$),\n",
    "that predictions denote risk scores, i.e. a higher predicted value indicates shorter survival,\n",
    "a lower value longer survival."
   ]
  },
  {
   "cell_type": "code",
   "execution_count": 13,
   "metadata": {},
   "outputs": [
    {
     "name": "stdout",
     "output_type": "stream",
     "text": [
      "[-1.59  -1.687]\n",
      "[( True,  72.) ( True, 411.)]\n"
     ]
    }
   ],
   "source": [
    "pred = estimator.predict(x.iloc[:2])\n",
    "print(np.round(pred, 3))\n",
    "print(y[:2])"
   ]
  },
  {
   "cell_type": "markdown",
   "metadata": {},
   "source": [
    "The model predicted that the first sample has a lower risk than the second sample, which is in concordance with the actual survival times."
   ]
  },
  {
   "cell_type": "markdown",
   "metadata": {},
   "source": [
    "### Regression Objective\n",
    "\n",
    "If the regression objective is used ($r < 1$), the semantics are different, because now predictions are on the time scale and lower predicted values indicate shorter survival, higher values longer survival.\n",
    "Moreover, we saw from the histogram of observed times above that the distribution is skewed, therefore\n",
    "the survival/censoring times will be log-transformed by the `FastSurvivalSVM` internally, when using a $r < 1$."
   ]
  },
  {
   "cell_type": "markdown",
   "metadata": {},
   "source": [
    "Let's fit a model using the regression objective ($r = 0$) and compare its performance to the ranking model from above."
   ]
  },
  {
   "cell_type": "code",
   "execution_count": 14,
   "metadata": {},
   "outputs": [
    {
     "name": "stdout",
     "output_type": "stream",
     "text": [
      "0.736\n"
     ]
    }
   ],
   "source": [
    "ref_estimator = FastSurvivalSVM(rank_ratio=0.0, max_iter=1000, tol=1e-5, random_state=0)\n",
    "ref_estimator.fit(x, y)\n",
    "\n",
    "cindex = concordance_index_censored(\n",
    "    y['Status'],\n",
    "    y['Survival_in_days'],\n",
    "    -ref_estimator.predict(x),  # flip sign to obtain risk scores\n",
    ")\n",
    "print(round(cindex[0], 3))"
   ]
  },
  {
   "cell_type": "markdown",
   "metadata": {},
   "source": [
    "Note that `concordance_index_censored` expects risk scores, therefore, we had to flip the sign of predictions.\n",
    "The resulting performance of the regression model is comparable to the of the ranking model above."
   ]
  },
  {
   "cell_type": "code",
   "execution_count": 15,
   "metadata": {},
   "outputs": [
    {
     "name": "stdout",
     "output_type": "stream",
     "text": [
      "[120.786 149.963]\n"
     ]
    }
   ],
   "source": [
    "pred = ref_estimator.predict(x.iloc[:2])\n",
    "print(np.round(pred, 3))"
   ]
  },
  {
   "cell_type": "markdown",
   "metadata": {
    "collapsed": true
   },
   "source": [
    "## Kernel Survival Support Vector Machine\n",
    "\n",
    "The *Kernel Survival Support Vector Machine* is a generalization of the *Linear Survival Support Vector Machine* that can account for more complex relationships between features and survival time, it is implemented in [sksurv.svm.FastKernelSurvivalSVM](https://scikit-survival.readthedocs.io/en/latest/api/generated/sksurv.svm.FastKernelSurvivalSVM.html#sksurv.svm.FastKernelSurvivalSVM). The disadvantage is that the choice of kernel function and its hyper-parameters is often not straightforward and requires tuning to obtain good results. For instance, the [Radial Basis Function](https://en.wikipedia.org/wiki/Radial_basis_function_kernel) has a hyper-parameter $\\gamma$ that needs to be set: $k(x, x^\\prime) = \\exp(-\\gamma \\|x-x^\\prime \\|^2)$. There are many other [built-in kernel functions](https://scikit-learn.org/stable/modules/generated/sklearn.metrics.pairwise.pairwise_kernels.html#sklearn.metrics.pairwise.pairwise_kernels) that can be used by passing their name as `kernel` parameter to `FastKernelSurvivalSVM`.\n",
    "\n",
    "In this example, we are going to use the clinical kernel, because it is able to distinguish between continuous, ordinal, and nominal attributes. As this is a custom kernel function, we first need to pre-compute the kernel matrix."
   ]
  },
  {
   "cell_type": "code",
   "execution_count": 16,
   "metadata": {},
   "outputs": [],
   "source": [
    "from sksurv.kernels import clinical_kernel\n",
    "from sksurv.svm import FastKernelSurvivalSVM"
   ]
  },
  {
   "cell_type": "code",
   "execution_count": 17,
   "metadata": {},
   "outputs": [],
   "source": [
    "kernel_matrix = clinical_kernel(data_x)"
   ]
  },
  {
   "cell_type": "markdown",
   "metadata": {},
   "source": [
    "As with the *Linear Survival Support Vector Machine* above, we are going to determine the optimal $\\alpha$ value  by using [GridSearchCV](https://scikit-learn.org/stable/modules/generated/sklearn.model_selection.GridSearchCV.html)."
   ]
  },
  {
   "cell_type": "code",
   "execution_count": 18,
   "metadata": {},
   "outputs": [],
   "source": [
    "kssvm = FastKernelSurvivalSVM(optimizer=\"rbtree\", kernel=\"precomputed\", random_state=0)\n",
    "\n",
    "kgcv = GridSearchCV(kssvm, param_grid, scoring=score_survival_model,\n",
    "                    n_jobs=4, refit=False,\n",
    "                    cv=cv)"
   ]
  },
  {
   "cell_type": "markdown",
   "metadata": {},
   "source": [
    "Note that when using a custom kernel, we do not pass the original data (`data_x`) to the fit function, but the pre-computed, square kernel matrix."
   ]
  },
  {
   "cell_type": "code",
   "execution_count": 19,
   "metadata": {},
   "outputs": [],
   "source": [
    "import warnings\n",
    "warnings.filterwarnings(\"ignore\", category=FutureWarning)\n",
    "kgcv = kgcv.fit(kernel_matrix, y)"
   ]
  },
  {
   "cell_type": "markdown",
   "metadata": {},
   "source": [
    "Now, print the best average concordance index and the corresponding parameters."
   ]
  },
  {
   "cell_type": "code",
   "execution_count": 20,
   "metadata": {},
   "outputs": [
    {
     "data": {
      "text/plain": "(0.709, {'alpha': 0.015625})"
     },
     "execution_count": 20,
     "metadata": {},
     "output_type": "execute_result"
    }
   ],
   "source": [
    "round(kgcv.best_score_, 3), kgcv.best_params_"
   ]
  },
  {
   "cell_type": "markdown",
   "metadata": {},
   "source": [
    "Finally, we visualize the distribution of test scores obtained via cross-validation."
   ]
  },
  {
   "cell_type": "code",
   "execution_count": 21,
   "metadata": {},
   "outputs": [
    {
     "data": {
      "text/plain": "<Figure size 792x432 with 1 Axes>",
      "image/png": "[encoded data removed]"
     },
     "metadata": {},
     "output_type": "display_data"
    }
   ],
   "source": [
    "plot_performance(kgcv)"
   ]
  },
  {
   "cell_type": "markdown",
   "metadata": {},
   "source": [
    "We can see that the choice of $\\alpha$ is much more important here, compared to the Linear Survival Support Vector Machine. Nevertheless, the best performance is below that of the linear model, which illustrates that choosing a good kernel function is essential, but also a non-trivial task."
   ]
  },
  {
   "cell_type": "markdown",
   "metadata": {},
   "source": [
    "## References\n",
    "\n",
    "> Pölsterl, S., Navab, N., and Katouzian, A.,\n",
    "> *Fast Training of Support Vector Machines for Survival Analysis*,\n",
    "> Machine Learning and Knowledge Discovery in Databases: European Conference,\n",
    "> ECML PKDD 2015, Porto, Portugal,\n",
    "> Lecture Notes in Computer Science, vol. 9285, pp. 243-259 (2015)\n",
    "\n",
    "> Pölsterl, S., Navab, N., and Katouzian, A.,\n",
    "> *An Efficient Training Algorithm for Kernel Survival Support Vector Machines*\n",
    "> 4th Workshop on Machine Learning in Life Sciences,\n",
    "> 23 September 2016, Riva del Garda, Italy"
   ]
  }
 ],
 "metadata": {
  "kernelspec": {
   "display_name": "Python 3",
   "language": "python",
   "name": "python3"
  },
  "language_info": {
   "codemirror_mode": {
    "name": "ipython",
    "version": 3
   },
   "file_extension": ".py",
   "mimetype": "text/x-python",
   "name": "python",
   "nbconvert_exporter": "python",
   "pygments_lexer": "ipython3",
   "version": "3.8.5"
  }
 },
 "nbformat": 4,
 "nbformat_minor": 1
}
